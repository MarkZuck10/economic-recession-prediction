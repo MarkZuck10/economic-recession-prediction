{
  "nbformat": 4,
  "nbformat_minor": 0,
  "metadata": {
    "colab": {
      "provenance": [],
      "collapsed_sections": [
        "krzOZH0i6MoA",
        "YxuSs4FB6HpV",
        "zVy6wfsh6W0c",
        "sDLBa9sIbCoM",
        "V92yUg7bm5Ih"
      ],
      "mount_file_id": "1qNE58wM0x3_2CKAoVANmLy1jc-xNy_Wk",
      "authorship_tag": "ABX9TyM+dTRsRsgmyM3JS+wUHp1D",
      "include_colab_link": true
    },
    "kernelspec": {
      "name": "python3",
      "display_name": "Python 3"
    },
    "language_info": {
      "name": "python"
    }
  },
  "cells": [
    {
      "cell_type": "markdown",
      "metadata": {
        "id": "view-in-github",
        "colab_type": "text"
      },
      "source": [
        "<a href=\"https://colab.research.google.com/github/MarkZuck10/economic-recession-prediction/blob/main/VADERembeddings.ipynb\" target=\"_parent\"><img src=\"https://colab.research.google.com/assets/colab-badge.svg\" alt=\"Open In Colab\"/></a>"
      ]
    },
    {
      "cell_type": "markdown",
      "source": [
        "# 1. Importing Dataset"
      ],
      "metadata": {
        "id": "YxuSs4FB6HpV"
      }
    },
    {
      "cell_type": "code",
      "source": [
        "import pandas as pd\n",
        "\n",
        "df = pd.read_csv('drive/MyDrive/01-02-23_VADER-sentiment.csv')\n",
        "df.shape"
      ],
      "metadata": {
        "id": "coLHwnTn5-Ol",
        "colab": {
          "base_uri": "https://localhost:8080/"
        },
        "outputId": "74d8863a-8b7f-4797-8afd-0a1ed7779cb5"
      },
      "execution_count": 6,
      "outputs": [
        {
          "output_type": "execute_result",
          "data": {
            "text/plain": [
              "(21964, 3)"
            ]
          },
          "metadata": {},
          "execution_count": 6
        }
      ]
    },
    {
      "cell_type": "code",
      "source": [
        "df.isna().sum().sort_values(ascending=False)"
      ],
      "metadata": {
        "colab": {
          "base_uri": "https://localhost:8080/",
          "height": 178
        },
        "id": "KAj3VCzYXN5u",
        "outputId": "b9e76fbf-3848-4819-8ac9-c011a4ffd307"
      },
      "execution_count": 8,
      "outputs": [
        {
          "output_type": "execute_result",
          "data": {
            "text/plain": [
              "tweetid            10\n",
              "vader_sentiment    10\n",
              "text                0\n",
              "dtype: int64"
            ],
            "text/html": [
              "<table border=\"1\" class=\"dataframe\">\n",
              "  <thead>\n",
              "    <tr style=\"text-align: right;\">\n",
              "      <th></th>\n",
              "      <th>0</th>\n",
              "    </tr>\n",
              "  </thead>\n",
              "  <tbody>\n",
              "    <tr>\n",
              "      <th>tweetid</th>\n",
              "      <td>10</td>\n",
              "    </tr>\n",
              "    <tr>\n",
              "      <th>vader_sentiment</th>\n",
              "      <td>10</td>\n",
              "    </tr>\n",
              "    <tr>\n",
              "      <th>text</th>\n",
              "      <td>0</td>\n",
              "    </tr>\n",
              "  </tbody>\n",
              "</table><br><label><b>dtype:</b> int64</label>"
            ]
          },
          "metadata": {},
          "execution_count": 8
        }
      ]
    },
    {
      "cell_type": "code",
      "source": [
        "df = df.dropna()"
      ],
      "metadata": {
        "id": "FyWbRqwMZ0Tt"
      },
      "execution_count": 9,
      "outputs": []
    },
    {
      "cell_type": "code",
      "source": [
        "df.isna().sum().sort_values(ascending=False)"
      ],
      "metadata": {
        "colab": {
          "base_uri": "https://localhost:8080/",
          "height": 178
        },
        "id": "ZMuP-OZPZ4JM",
        "outputId": "f698e7c8-60ac-40a9-8b82-72f7ff731507"
      },
      "execution_count": 10,
      "outputs": [
        {
          "output_type": "execute_result",
          "data": {
            "text/plain": [
              "text               0\n",
              "tweetid            0\n",
              "vader_sentiment    0\n",
              "dtype: int64"
            ],
            "text/html": [
              "<table border=\"1\" class=\"dataframe\">\n",
              "  <thead>\n",
              "    <tr style=\"text-align: right;\">\n",
              "      <th></th>\n",
              "      <th>0</th>\n",
              "    </tr>\n",
              "  </thead>\n",
              "  <tbody>\n",
              "    <tr>\n",
              "      <th>text</th>\n",
              "      <td>0</td>\n",
              "    </tr>\n",
              "    <tr>\n",
              "      <th>tweetid</th>\n",
              "      <td>0</td>\n",
              "    </tr>\n",
              "    <tr>\n",
              "      <th>vader_sentiment</th>\n",
              "      <td>0</td>\n",
              "    </tr>\n",
              "  </tbody>\n",
              "</table><br><label><b>dtype:</b> int64</label>"
            ]
          },
          "metadata": {},
          "execution_count": 10
        }
      ]
    },
    {
      "cell_type": "code",
      "source": [
        "print(df.duplicated().sum())"
      ],
      "metadata": {
        "colab": {
          "base_uri": "https://localhost:8080/"
        },
        "id": "I9cavlMYYOhK",
        "outputId": "02ea104d-e830-4e4d-839b-5a96aa893a6d"
      },
      "execution_count": 7,
      "outputs": [
        {
          "output_type": "stream",
          "name": "stdout",
          "text": [
            "2\n"
          ]
        }
      ]
    },
    {
      "cell_type": "code",
      "source": [
        "df = df.drop_duplicates()"
      ],
      "metadata": {
        "id": "R6nskWpEaB5F"
      },
      "execution_count": 11,
      "outputs": []
    },
    {
      "cell_type": "code",
      "source": [
        "print(df.duplicated().sum())"
      ],
      "metadata": {
        "colab": {
          "base_uri": "https://localhost:8080/"
        },
        "id": "cUI9CSkJaGGc",
        "outputId": "31b82e28-03fe-428c-8bdb-9ab9c893e426"
      },
      "execution_count": 12,
      "outputs": [
        {
          "output_type": "stream",
          "name": "stdout",
          "text": [
            "0\n"
          ]
        }
      ]
    },
    {
      "cell_type": "code",
      "source": [
        "df.shape"
      ],
      "metadata": {
        "colab": {
          "base_uri": "https://localhost:8080/"
        },
        "id": "fwo5V3P-aIZV",
        "outputId": "153d4667-8d28-4fcf-8c24-8cc180d2e4ab"
      },
      "execution_count": 13,
      "outputs": [
        {
          "output_type": "execute_result",
          "data": {
            "text/plain": [
              "(21954, 3)"
            ]
          },
          "metadata": {},
          "execution_count": 13
        }
      ]
    },
    {
      "cell_type": "code",
      "source": [
        "sentiment_counts = df['vader_sentiment'].value_counts()\n",
        "\n",
        "print(sentiment_counts)"
      ],
      "metadata": {
        "colab": {
          "base_uri": "https://localhost:8080/"
        },
        "id": "q4O2cyvnZV1h",
        "outputId": "fa0841d9-847d-4c50-a189-90be0cbc74dd"
      },
      "execution_count": 14,
      "outputs": [
        {
          "output_type": "stream",
          "name": "stdout",
          "text": [
            "vader_sentiment\n",
            "Negative    9810\n",
            "Positive    7742\n",
            "Neutral     4402\n",
            "Name: count, dtype: int64\n"
          ]
        }
      ]
    },
    {
      "cell_type": "markdown",
      "source": [
        "# 2. generating Embeddings"
      ],
      "metadata": {
        "id": "V92yUg7bm5Ih"
      }
    },
    {
      "cell_type": "code",
      "source": [
        "from transformers import BertTokenizer, BertModel\n",
        "import torch\n",
        "\n",
        "# Loading pre-trained BERT tokenizer and model\n",
        "tokenizer = BertTokenizer.from_pretrained('bert-base-uncased')\n",
        "model = BertModel.from_pretrained('bert-base-uncased')"
      ],
      "metadata": {
        "id": "sgG9l9Jja_1g"
      },
      "execution_count": null,
      "outputs": []
    },
    {
      "cell_type": "code",
      "source": [
        "def process_batch(texts_batch):\n",
        "    inputs = tokenizer(texts_batch, return_tensors='pt', padding=True, truncation=True, max_length=128)\n",
        "    with torch.no_grad():\n",
        "        outputs = model(**inputs)\n",
        "        return outputs.last_hidden_state.mean(dim=1).cpu().numpy()"
      ],
      "metadata": {
        "id": "_ruHlslrcflo"
      },
      "execution_count": 2,
      "outputs": []
    },
    {
      "cell_type": "code",
      "source": [
        "texts = df['text'].tolist()\n",
        "\n",
        "batch_size = 256\n",
        "embeddings = []"
      ],
      "metadata": {
        "id": "GR3i4UWya_zU"
      },
      "execution_count": 27,
      "outputs": []
    },
    {
      "cell_type": "code",
      "source": [
        "for i in range(0, len(texts), batch_size):\n",
        "    batch_texts = texts[i:i + batch_size]\n",
        "    batch_embeddings = process_batch(batch_texts)\n",
        "    embeddings.append(batch_embeddings)"
      ],
      "metadata": {
        "id": "2rAhj5VHd2qO"
      },
      "execution_count": 28,
      "outputs": []
    },
    {
      "cell_type": "code",
      "source": [
        "# Combining all embeddings\n",
        "import numpy as np\n",
        "embeddings_np = np.vstack(embeddings)\n",
        "\n",
        "embeddings_np.shape"
      ],
      "metadata": {
        "id": "Ls61Rl-pa_xA",
        "colab": {
          "base_uri": "https://localhost:8080/"
        },
        "outputId": "3f1a31d5-fd35-41d6-8519-5e5dc3c37b18"
      },
      "execution_count": 29,
      "outputs": [
        {
          "output_type": "execute_result",
          "data": {
            "text/plain": [
              "(21954, 768)"
            ]
          },
          "metadata": {},
          "execution_count": 29
        }
      ]
    },
    {
      "cell_type": "markdown",
      "source": [
        "# 3. Saving embeddings"
      ],
      "metadata": {
        "id": "AYwML2mxDCsl"
      }
    },
    {
      "cell_type": "code",
      "source": [
        "import numpy as np\n",
        "\n",
        "np.save(\"/content/drive/MyDrive/01-02-23-embeddings.npy\", embeddings_np)"
      ],
      "metadata": {
        "id": "GGgUzNTmDFnq"
      },
      "execution_count": 30,
      "outputs": []
    }
  ]
}